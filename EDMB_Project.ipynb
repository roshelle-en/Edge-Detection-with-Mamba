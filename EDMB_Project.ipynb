{
  "nbformat": 4,
  "nbformat_minor": 0,
  "metadata": {
    "colab": {
      "provenance": [],
      "gpuType": "T4",
      "authorship_tag": "ABX9TyPpzH37sT7BQdTm/alJWIVX",
      "include_colab_link": true
    },
    "kernelspec": {
      "name": "python3",
      "display_name": "Python 3"
    },
    "language_info": {
      "name": "python"
    },
    "accelerator": "GPU"
  },
  "cells": [
    {
      "cell_type": "markdown",
      "metadata": {
        "id": "view-in-github",
        "colab_type": "text"
      },
      "source": [
        "<a href=\"https://colab.research.google.com/github/roshelle-en/Edge-Detection-with-Mamba/blob/main/EDMB_Project.ipynb\" target=\"_parent\"><img src=\"https://colab.research.google.com/assets/colab-badge.svg\" alt=\"Open In Colab\"/></a>"
      ]
    },
    {
      "cell_type": "code",
      "execution_count": null,
      "metadata": {
        "colab": {
          "base_uri": "https://localhost:8080/"
        },
        "id": "kGqoBTPfyvf2",
        "outputId": "34d7173d-8a06-4b4a-a155-12cb0c34097f"
      },
      "outputs": [
        {
          "output_type": "stream",
          "name": "stdout",
          "text": [
            "Cloning into 'EDMB'...\n",
            "remote: Enumerating objects: 128, done.\u001b[K\n",
            "remote: Counting objects: 100% (128/128), done.\u001b[K\n",
            "remote: Compressing objects: 100% (126/126), done.\u001b[K\n",
            "remote: Total 128 (delta 56), reused 0 (delta 0), pack-reused 0 (from 0)\u001b[K\n",
            "Receiving objects: 100% (128/128), 714.48 KiB | 2.98 MiB/s, done.\n",
            "Resolving deltas: 100% (56/56), done.\n"
          ]
        }
      ],
      "source": [
        "!git clone https://github.com/Li-yachuan/EDMB.git"
      ]
    },
    {
      "cell_type": "code",
      "source": [
        "%cd EDMB"
      ],
      "metadata": {
        "colab": {
          "base_uri": "https://localhost:8080/"
        },
        "id": "mQALyz1yzSPs",
        "outputId": "f0c463bb-c4cb-4781-9989-b8d93cdfe91f"
      },
      "execution_count": null,
      "outputs": [
        {
          "output_type": "stream",
          "name": "stdout",
          "text": [
            "/content/EDMB\n"
          ]
        }
      ]
    },
    {
      "cell_type": "code",
      "source": [
        "!ls\n"
      ],
      "metadata": {
        "colab": {
          "base_uri": "https://localhost:8080/"
        },
        "id": "y1hStPeQzW3g",
        "outputId": "f0e8fb09-4fb1-43f2-f2fa-27e5eab1091a"
      },
      "execution_count": null,
      "outputs": [
        {
          "output_type": "stream",
          "name": "stdout",
          "text": [
            "data_process.py  fig\t    main.py  README.md\t       test.py\t utils.py\n",
            "eval_muge_best\t gflops.py  model    requirements.txt  train.py\n"
          ]
        }
      ]
    },
    {
      "cell_type": "code",
      "source": [
        "!pip install -r requirements.txt"
      ],
      "metadata": {
        "colab": {
          "base_uri": "https://localhost:8080/"
        },
        "id": "taotXzADzdvq",
        "outputId": "bd6eb014-3d35-476c-eacb-80c619ab6544"
      },
      "execution_count": null,
      "outputs": [
        {
          "output_type": "stream",
          "name": "stdout",
          "text": [
            "\u001b[31mERROR: /workspace/EDMamba/mamba-1p1p1 is not a valid editable requirement. It should either be a path to a local project or a VCS URL (beginning with bzr+http, bzr+https, bzr+ssh, bzr+sftp, bzr+ftp, bzr+lp, bzr+file, git+http, git+https, git+ssh, git+git, git+file, hg+file, hg+http, hg+https, hg+ssh, hg+static-http, svn+ssh, svn+http, svn+https, svn+svn, svn+file).\u001b[0m\u001b[31m\n",
            "\u001b[0m"
          ]
        }
      ]
    },
    {
      "cell_type": "code",
      "source": [
        "!cat requirements.txt"
      ],
      "metadata": {
        "colab": {
          "base_uri": "https://localhost:8080/"
        },
        "id": "aZcU2Osj0HCR",
        "outputId": "1935751a-5a0b-4619-9d71-bcd1e6d31f45"
      },
      "execution_count": null,
      "outputs": [
        {
          "output_type": "stream",
          "name": "stdout",
          "text": [
            "absl-py==2.1.0\n",
            "addict==2.4.0\n",
            "attrs==23.2.0\n",
            "Automat==22.10.0\n",
            "Babel==2.1.1\n",
            "buildtools==1.0.6\n",
            "cachetools==5.5.0\n",
            "causal-conv1d==1.1.1\n",
            "certifi==2023.11.17\n",
            "chardet==5.2.0\n",
            "charset-normalizer==3.3.2\n",
            "clize==3.0\n",
            "cloudpickle==3.0.0\n",
            "cmake==3.28.1\n",
            "constantly==23.10.4\n",
            "contourpy==1.1.1\n",
            "cycler==0.12.1\n",
            "dbus-python==1.2.16\n",
            "debtcollector==0.10.0\n",
            "distro==1.4.0\n",
            "docopt==0.6.2\n",
            "einops==0.7.0\n",
            "exceptiongroup==1.2.0\n",
            "filelock==3.13.1\n",
            "fonttools==4.51.0\n",
            "fsspec==2023.12.2\n",
            "funcsigs==0.4\n",
            "furl==2.1.3\n",
            "fvcore==0.1.5.post20221221\n",
            "google-auth==2.34.0\n",
            "google-auth-oauthlib==1.0.0\n",
            "greenlet==3.0.3\n",
            "grpcio==1.66.1\n",
            "huggingface-hub==0.20.3\n",
            "hyperlink==21.0.0\n",
            "idna==3.6\n",
            "imageio==2.34.1\n",
            "imgaug==0.4.0\n",
            "importlib-metadata==8.4.0\n",
            "importlib-resources==6.4.0\n",
            "incremental==22.10.0\n",
            "iniconfig==2.0.0\n",
            "iopath==0.1.10\n",
            "iso8601==0.1.11\n",
            "Jinja2==2.8\n",
            "joblib==1.4.0\n",
            "kiwisolver==1.4.5\n",
            "lazy-loader==0.4\n",
            "lit==17.0.6\n",
            "# Editable install with no version control (mamba-ssm==1.1.1)\n",
            "-e /workspace/EDMamba/mamba-1p1p1\n",
            "Markdown==3.7\n",
            "markdown-it-py==3.0.0\n",
            "MarkupSafe==2.1.5\n",
            "matplotlib==3.7.5\n",
            "mdurl==0.1.2\n",
            "mmcv==2.2.0\n",
            "mmengine==0.10.4\n",
            "monotonic==0.4\n",
            "msgpack-python==0.4.6\n",
            "netaddr==0.7.18\n",
            "netifaces==0.10.4\n",
            "networkx==3.1\n",
            "ninja==1.11.1.1\n",
            "numpy==1.24.4\n",
            "oauthlib==3.2.2\n",
            "opencv-python==4.9.0.80\n",
            "opencv-python-headless==4.9.0.80\n",
            "orderedmultidict==1.0.1\n",
            "oslo.config==2.6.0\n",
            "oslo.context==0.8.0\n",
            "oslo.i18n==2.7.0\n",
            "oslo.log==1.13.0\n",
            "oslo.serialization==1.11.0\n",
            "oslo.utils==2.7.0\n",
            "packaging==23.2\n",
            "pbr==1.8.1\n",
            "pillow==10.2.0\n",
            "platformdirs==4.2.2\n",
            "pluggy==1.3.0\n",
            "portalocker==2.8.2\n",
            "protobuf==4.25.2\n",
            "pyasn1==0.6.0\n",
            "pyasn1-modules==0.4.0\n",
            "pygments==2.18.0\n",
            "PyGObject==3.36.0\n",
            "pyinotify==0.9.6\n",
            "pyparsing==3.1.2\n",
            "pysodmetrics==1.4.2\n",
            "pytest==7.4.4\n",
            "python-dateutil==2.8.2\n",
            "pytz==2015.7\n",
            "PyWavelets==1.4.1\n",
            "PyYAML==5.1\n",
            "redo==2.0.4\n",
            "regex==2023.12.25\n",
            "requests==2.31.0\n",
            "requests-oauthlib==2.0.0\n",
            "rich==13.7.1\n",
            "rsa==4.9\n",
            "safetensors==0.4.2\n",
            "scikit-image==0.21.0\n",
            "scikit-learn==1.3.2\n",
            "scipy==1.10.1\n",
            "# Editable install with no version control (selective-scan==0.0.2)\n",
            "-e /usr/local/lib/python3.8/dist-packages\n",
            "sh==1.11\n",
            "shapely==2.0.4\n",
            "sigtools==1.0\n",
            "simplejson==3.19.2\n",
            "six==1.10.0\n",
            "SQLAlchemy==2.0.25\n",
            "ssh-import-id==5.10\n",
            "stevedore==1.9.0\n",
            "submitit==1.5.1\n",
            "tabulate==0.9.0\n",
            "tensorboard==2.14.0\n",
            "tensorboard-data-server==0.7.2\n",
            "tensorboardX==2.6.2.2\n",
            "termcolor==2.4.0\n",
            "thop==0.1.1.post2209072238\n",
            "threadpoolctl==3.4.0\n",
            "tifffile==2023.7.10\n",
            "timm==0.4.12\n",
            "tokenizers==0.15.1\n",
            "tomli==2.0.1\n",
            "torch==1.13.0+cu117\n",
            "torchaudio==0.13.0+cu117\n",
            "torchvision==0.14.0+cu117\n",
            "tqdm==4.66.1\n",
            "transformers==4.37.0\n",
            "triton==2.0.0\n",
            "twisted==23.10.0\n",
            "typing-extensions==4.9.0\n",
            "urllib3==2.1.0\n",
            "vi==0.0.5.dev9\n",
            "werkzeug==3.0.4\n",
            "wrapt==1.10.5\n",
            "yacs==0.1.8\n",
            "yapf==0.40.2\n",
            "zipp==3.18.1\n",
            "zope.interface==6.4\n"
          ]
        }
      ]
    },
    {
      "cell_type": "code",
      "source": [],
      "metadata": {
        "id": "0GKXTrl91loF"
      },
      "execution_count": null,
      "outputs": []
    },
    {
      "cell_type": "code",
      "source": [],
      "metadata": {
        "id": "xd20mBB9038N"
      },
      "execution_count": null,
      "outputs": []
    },
    {
      "cell_type": "code",
      "source": [
        "!sed -i 's/^(-e \\/workspace\\/EDMamba\\/mamba[^ ]*)/#\\1/g' requirements.txt"
      ],
      "metadata": {
        "colab": {
          "base_uri": "https://localhost:8080/"
        },
        "id": "SNqx3r3X0YUu",
        "outputId": "2e0518d5-cdae-4226-da38-e114f1e44de0"
      },
      "execution_count": null,
      "outputs": [
        {
          "output_type": "stream",
          "name": "stdout",
          "text": [
            "sed: -e expression #1, char 46: invalid reference \\1 on `s' command's RHS\n"
          ]
        }
      ]
    },
    {
      "cell_type": "code",
      "source": [
        "!pip install -r requirements.txt"
      ],
      "metadata": {
        "colab": {
          "base_uri": "https://localhost:8080/"
        },
        "id": "kn4856Yp0jad",
        "outputId": "d85cb05f-cb5f-4b48-b22e-85de21c1a630"
      },
      "execution_count": null,
      "outputs": [
        {
          "output_type": "stream",
          "name": "stdout",
          "text": [
            "\u001b[31mERROR: /workspace/EDMamba/mamba-1p1p1 is not a valid editable requirement. It should either be a path to a local project or a VCS URL (beginning with bzr+http, bzr+https, bzr+ssh, bzr+sftp, bzr+ftp, bzr+lp, bzr+file, git+http, git+https, git+ssh, git+git, git+file, hg+file, hg+http, hg+https, hg+ssh, hg+static-http, svn+ssh, svn+http, svn+https, svn+svn, svn+file).\u001b[0m\u001b[31m\n",
            "\u001b[0m"
          ]
        }
      ]
    },
    {
      "cell_type": "code",
      "source": [
        "%%writefile requirements.txt"
      ],
      "metadata": {
        "colab": {
          "base_uri": "https://localhost:8080/"
        },
        "id": "JHIAj3hd05aN",
        "outputId": "e8b54950-cca7-47be-9e59-cc3e4ada1c6c"
      },
      "execution_count": null,
      "outputs": [
        {
          "output_type": "stream",
          "name": "stdout",
          "text": [
            "Overwriting requirements.txt\n"
          ]
        }
      ]
    },
    {
      "cell_type": "code",
      "source": [
        "%%writefile requirements.txt\n",
        "absl-py==2.1.0\n",
        "addict==2.4.0\n",
        "attrs==23.2.0\n",
        "Automat==22.10.0\n",
        "Babel==2.1.1\n",
        "buildtools==1.0.6\n",
        "cachetools==5.5.0\n",
        "causal-conv1d==1.1.1\n",
        "certifi==2023.11.17\n",
        "chardet==5.2.0\n",
        "charset-normalizer==3.3.2\n",
        "clize==3.0\n",
        "cloudpickle==3.0.0\n",
        "cmake==3.28.1\n",
        "constantly==23.10.4\n",
        "contourpy==1.1.1\n",
        "cycler==0.12.1\n",
        "dbus-python==1.2.16\n",
        "debtcollector==0.10.0\n",
        "distro==1.4.0\n",
        "docopt==0.6.2\n",
        "einops==0.7.0\n",
        "exceptiongroup==1.2.0\n",
        "filelock==3.13.1\n",
        "fonttools==4.51.0\n",
        "fsspec==2023.12.2\n",
        "funcsigs==0.4\n",
        "furl==2.1.3\n",
        "fvcore==0.1.5.post20221221\n",
        "google-auth==2.34.0\n",
        "google-auth-oauthlib==1.0.0\n",
        "greenlet==3.0.3\n",
        "grpcio==1.66.1\n",
        "huggingface-hub==0.20.3\n",
        "hyperlink==21.0.0\n",
        "idna==3.6\n",
        "imageio==2.34.1\n",
        "imgaug==0.4.0\n",
        "importlib-metadata==8.4.0\n",
        "importlib-resources==6.4.0\n",
        "incremental==22.10.0\n",
        "iniconfig==2.0.0\n",
        "iopath==0.1.10\n",
        "iso8601==0.1.11\n",
        "Jinja2==2.8\n",
        "joblib==1.4.0\n",
        "kiwisolver==1.4.5\n",
        "lazy-loader==0.4\n",
        "lit==17.0.6\n",
        "# Editable install with no version control (mamba-ssm==1.1.1)\n",
        "# -e /workspace/EDMamba/mamba-1p1p1\n",
        "Markdown==3.7\n",
        "markdown-it-py==3.0.0\n",
        "MarkupSafe==2.1.5\n",
        "matplotlib==3.7.5\n",
        "mdurl==0.1.2\n",
        "mmcv==2.2.0\n",
        "mmengine==0.10.4\n",
        "monotonic==0.4\n",
        "msgpack-python==0.4.6\n",
        "netaddr==0.7.18\n",
        "netifaces==0.10.4\n",
        "networkx==3.1\n",
        "ninja==1.11.1.1\n",
        "numpy==1.24.4\n",
        "oauthlib==3.2.2\n",
        "opencv-python==4.9.0.80\n",
        "opencv-python-headless==4.9.0.80\n",
        "orderedmultidict==1.0.1\n",
        "oslo.config==2.6.0\n",
        "oslo.context==0.8.0\n",
        "oslo.i18n==2.7.0\n",
        "oslo.log==1.13.0\n",
        "oslo.serialization==1.11.0\n",
        "oslo.utils==2.7.0\n",
        "packaging==23.2\n",
        "pbr==1.8.1\n",
        "pillow==10.2.0\n",
        "platformdirs==4.2.2\n",
        "pluggy==1.3.0\n",
        "portalocker==2.8.2\n",
        "protobuf==4.25.2\n",
        "pyasn1==0.6.0\n",
        "pyasn1-modules==0.4.0\n",
        "pygments==2.18.0\n",
        "PyGObject==3.36.0\n",
        "pyinotify==0.9.6\n",
        "pyparsing==3.1.2\n",
        "pysodmetrics==1.4.2\n",
        "pytest==7.4.4\n",
        "python-dateutil==2.8.2\n",
        "pytz==2015.7\n",
        "PyWavelets==1.4.1\n",
        "PyYAML==5.1\n",
        "redo==2.0.4\n",
        "regex==2023.12.25\n",
        "requests==2.31.0\n",
        "requests-oauthlib==2.0.0\n",
        "rich==13.7.1\n",
        "rsa==4.9\n",
        "safetensors==0.4.2\n",
        "scikit-image==0.21.0\n",
        "scikit-learn==1.3.2\n",
        "scipy==1.10.1\n",
        "# Editable install with no version control (selective-scan==0.0.2)\n",
        "# -e /usr/local/lib/python3.8/dist-packages\n",
        "sh==1.11\n",
        "shapely==2.0.4\n",
        "sigtools==1.0\n",
        "simplejson==3.19.2\n",
        "six==1.10.0\n",
        "SQLAlchemy==2.0.25\n",
        "ssh-import-id==5.10\n",
        "stevedore==1.9.0\n",
        "submitit==1.5.1\n",
        "tabulate==0.9.0\n",
        "tensorboard==2.14.0\n",
        "tensorboard-data-server==0.7.2\n",
        "tensorboardX==2.6.2.2\n",
        "termcolor==2.4.0\n",
        "thop==0.1.1.post2209072238\n",
        "threadpoolctl==3.4.0\n",
        "tifffile==2023.7.10\n",
        "timm==0.4.12\n",
        "tokenizers==0.15.1\n",
        "tomli==2.0.1\n",
        "torch==1.13.0+cu117\n",
        "torchaudio==0.13.0+cu117\n",
        "torchvision==0.14.0+cu117\n",
        "tqdm==4.66.1\n",
        "transformers==4.37.0\n",
        "triton==2.0.0\n",
        "twisted==23.10.0\n",
        "typing-extensions==4.9.0\n",
        "urllib3==2.1.0\n",
        "vi==0.0.5.dev9\n",
        "werkzeug==3.0.4\n",
        "wrapt==1.10.5\n",
        "yacs==0.1.8\n",
        "yapf==0.40.2\n",
        "zipp==3.18.1\n",
        "zope.interface==6.4"
      ],
      "metadata": {
        "colab": {
          "base_uri": "https://localhost:8080/"
        },
        "id": "7nTEL0Jf073r",
        "outputId": "9518187c-5bd7-417f-ca69-e93a59684d12"
      },
      "execution_count": null,
      "outputs": [
        {
          "output_type": "stream",
          "name": "stdout",
          "text": [
            "Overwriting requirements.txt\n"
          ]
        }
      ]
    },
    {
      "cell_type": "code",
      "source": [
        "!cat requirements.txt"
      ],
      "metadata": {
        "colab": {
          "base_uri": "https://localhost:8080/"
        },
        "id": "l0aiyp-j1m51",
        "outputId": "67cb2c14-7a24-4c0e-b828-28b01ca0cd1e"
      },
      "execution_count": null,
      "outputs": [
        {
          "output_type": "stream",
          "name": "stdout",
          "text": [
            "absl-py==2.1.0\n",
            "addict==2.4.0\n",
            "attrs==23.2.0\n",
            "Automat==22.10.0\n",
            "Babel==2.1.1\n",
            "buildtools==1.0.6\n",
            "cachetools==5.5.0\n",
            "causal-conv1d==1.1.1\n",
            "certifi==2023.11.17\n",
            "chardet==5.2.0\n",
            "charset-normalizer==3.3.2\n",
            "clize==3.0\n",
            "cloudpickle==3.0.0\n",
            "cmake==3.28.1\n",
            "constantly==23.10.4\n",
            "contourpy==1.1.1\n",
            "cycler==0.12.1\n",
            "dbus-python==1.2.16\n",
            "debtcollector==0.10.0\n",
            "distro==1.4.0\n",
            "docopt==0.6.2\n",
            "einops==0.7.0\n",
            "exceptiongroup==1.2.0\n",
            "filelock==3.13.1\n",
            "fonttools==4.51.0\n",
            "fsspec==2023.12.2\n",
            "funcsigs==0.4\n",
            "furl==2.1.3\n",
            "fvcore==0.1.5.post20221221\n",
            "google-auth==2.34.0\n",
            "google-auth-oauthlib==1.0.0\n",
            "greenlet==3.0.3\n",
            "grpcio==1.66.1\n",
            "huggingface-hub==0.20.3\n",
            "hyperlink==21.0.0\n",
            "idna==3.6\n",
            "imageio==2.34.1\n",
            "imgaug==0.4.0\n",
            "importlib-metadata==8.4.0\n",
            "importlib-resources==6.4.0\n",
            "incremental==22.10.0\n",
            "iniconfig==2.0.0\n",
            "iopath==0.1.10\n",
            "iso8601==0.1.11\n",
            "Jinja2==2.8\n",
            "joblib==1.4.0\n",
            "kiwisolver==1.4.5\n",
            "lazy-loader==0.4\n",
            "lit==17.0.6\n",
            "# Editable install with no version control (mamba-ssm==1.1.1)\n",
            "# -e /workspace/EDMamba/mamba-1p1p1\n",
            "Markdown==3.7\n",
            "markdown-it-py==3.0.0\n",
            "MarkupSafe==2.1.5\n",
            "matplotlib==3.7.5\n",
            "mdurl==0.1.2\n",
            "mmcv==2.2.0\n",
            "mmengine==0.10.4\n",
            "monotonic==0.4\n",
            "msgpack-python==0.4.6\n",
            "netaddr==0.7.18\n",
            "netifaces==0.10.4\n",
            "networkx==3.1\n",
            "ninja==1.11.1.1\n",
            "numpy==1.24.4\n",
            "oauthlib==3.2.2\n",
            "opencv-python==4.9.0.80\n",
            "opencv-python-headless==4.9.0.80\n",
            "orderedmultidict==1.0.1\n",
            "oslo.config==2.6.0\n",
            "oslo.context==0.8.0\n",
            "oslo.i18n==2.7.0\n",
            "oslo.log==1.13.0\n",
            "oslo.serialization==1.11.0\n",
            "oslo.utils==2.7.0\n",
            "packaging==23.2\n",
            "pbr==1.8.1\n",
            "pillow==10.2.0\n",
            "platformdirs==4.2.2\n",
            "pluggy==1.3.0\n",
            "portalocker==2.8.2\n",
            "protobuf==4.25.2\n",
            "pyasn1==0.6.0\n",
            "pyasn1-modules==0.4.0\n",
            "pygments==2.18.0\n",
            "PyGObject==3.36.0\n",
            "pyinotify==0.9.6\n",
            "pyparsing==3.1.2\n",
            "pysodmetrics==1.4.2\n",
            "pytest==7.4.4\n",
            "python-dateutil==2.8.2\n",
            "pytz==2015.7\n",
            "PyWavelets==1.4.1\n",
            "PyYAML==5.1\n",
            "redo==2.0.4\n",
            "regex==2023.12.25\n",
            "requests==2.31.0\n",
            "requests-oauthlib==2.0.0\n",
            "rich==13.7.1\n",
            "rsa==4.9\n",
            "safetensors==0.4.2\n",
            "scikit-image==0.21.0\n",
            "scikit-learn==1.3.2\n",
            "scipy==1.10.1\n",
            "# Editable install with no version control (selective-scan==0.0.2)\n",
            "# -e /usr/local/lib/python3.8/dist-packages\n",
            "sh==1.11\n",
            "shapely==2.0.4\n",
            "sigtools==1.0\n",
            "simplejson==3.19.2\n",
            "six==1.10.0\n",
            "SQLAlchemy==2.0.25\n",
            "ssh-import-id==5.10\n",
            "stevedore==1.9.0\n",
            "submitit==1.5.1\n",
            "tabulate==0.9.0\n",
            "tensorboard==2.14.0\n",
            "tensorboard-data-server==0.7.2\n",
            "tensorboardX==2.6.2.2\n",
            "termcolor==2.4.0\n",
            "thop==0.1.1.post2209072238\n",
            "threadpoolctl==3.4.0\n",
            "tifffile==2023.7.10\n",
            "timm==0.4.12\n",
            "tokenizers==0.15.1\n",
            "tomli==2.0.1\n",
            "torch==1.13.0+cu117\n",
            "torchaudio==0.13.0+cu117\n",
            "torchvision==0.14.0+cu117\n",
            "tqdm==4.66.1\n",
            "transformers==4.37.0\n",
            "triton==2.0.0\n",
            "twisted==23.10.0\n",
            "typing-extensions==4.9.0\n",
            "urllib3==2.1.0\n",
            "vi==0.0.5.dev9\n",
            "werkzeug==3.0.4\n",
            "wrapt==1.10.5\n",
            "yacs==0.1.8\n",
            "yapf==0.40.2\n",
            "zipp==3.18.1\n",
            "zope.interface==6.4\n"
          ]
        }
      ]
    },
    {
      "cell_type": "code",
      "source": [
        "!pip install -r requirements.txt"
      ],
      "metadata": {
        "colab": {
          "base_uri": "https://localhost:8080/"
        },
        "id": "AjFGLSbv115d",
        "outputId": "0ce4a91e-485b-4cf1-928f-7889e8754422"
      },
      "execution_count": null,
      "outputs": [
        {
          "output_type": "stream",
          "name": "stdout",
          "text": [
            "Collecting absl-py==2.1.0 (from -r requirements.txt (line 1))\n",
            "  Downloading absl_py-2.1.0-py3-none-any.whl.metadata (2.3 kB)\n",
            "Collecting addict==2.4.0 (from -r requirements.txt (line 2))\n",
            "  Downloading addict-2.4.0-py3-none-any.whl.metadata (1.0 kB)\n",
            "Collecting attrs==23.2.0 (from -r requirements.txt (line 3))\n",
            "  Downloading attrs-23.2.0-py3-none-any.whl.metadata (9.5 kB)\n",
            "Collecting Automat==22.10.0 (from -r requirements.txt (line 4))\n",
            "  Downloading Automat-22.10.0-py2.py3-none-any.whl.metadata (1.0 kB)\n",
            "Collecting Babel==2.1.1 (from -r requirements.txt (line 5))\n",
            "  Downloading Babel-2.1.1-py2.py3-none-any.whl.metadata (871 bytes)\n",
            "Collecting buildtools==1.0.6 (from -r requirements.txt (line 6))\n",
            "  Downloading buildtools-1.0.6.tar.gz (446 kB)\n",
            "\u001b[2K     \u001b[90m━━━━━━━━━━━━━━━━━━━━━━━━━━━━━━━━━━━━━━\u001b[0m \u001b[32m446.5/446.5 kB\u001b[0m \u001b[31m12.5 MB/s\u001b[0m eta \u001b[36m0:00:00\u001b[0m\n",
            "\u001b[?25h  Preparing metadata (setup.py) ... \u001b[?25l\u001b[?25hdone\n",
            "Collecting cachetools==5.5.0 (from -r requirements.txt (line 7))\n",
            "  Downloading cachetools-5.5.0-py3-none-any.whl.metadata (5.3 kB)\n",
            "Collecting causal-conv1d==1.1.1 (from -r requirements.txt (line 8))\n",
            "  Downloading causal_conv1d-1.1.1.tar.gz (6.6 kB)\n",
            "  Preparing metadata (setup.py) ... \u001b[?25l\u001b[?25hdone\n",
            "Collecting certifi==2023.11.17 (from -r requirements.txt (line 9))\n",
            "  Downloading certifi-2023.11.17-py3-none-any.whl.metadata (2.2 kB)\n",
            "Requirement already satisfied: chardet==5.2.0 in /usr/local/lib/python3.12/dist-packages (from -r requirements.txt (line 10)) (5.2.0)\n",
            "Collecting charset-normalizer==3.3.2 (from -r requirements.txt (line 11))\n",
            "  Downloading charset_normalizer-3.3.2-cp312-cp312-manylinux_2_17_x86_64.manylinux2014_x86_64.whl.metadata (33 kB)\n",
            "Collecting clize==3.0 (from -r requirements.txt (line 12))\n",
            "  Downloading clize-3.0-py2.py3-none-any.whl.metadata (1.4 kB)\n",
            "Collecting cloudpickle==3.0.0 (from -r requirements.txt (line 13))\n",
            "  Downloading cloudpickle-3.0.0-py3-none-any.whl.metadata (7.0 kB)\n",
            "Collecting cmake==3.28.1 (from -r requirements.txt (line 14))\n",
            "  Downloading cmake-3.28.1-py2.py3-none-manylinux2014_x86_64.manylinux_2_17_x86_64.whl.metadata (6.3 kB)\n",
            "Collecting constantly==23.10.4 (from -r requirements.txt (line 15))\n",
            "  Downloading constantly-23.10.4-py3-none-any.whl.metadata (1.8 kB)\n",
            "Collecting contourpy==1.1.1 (from -r requirements.txt (line 16))\n",
            "  Downloading contourpy-1.1.1-cp312-cp312-manylinux_2_17_x86_64.manylinux2014_x86_64.whl.metadata (5.9 kB)\n",
            "Requirement already satisfied: cycler==0.12.1 in /usr/local/lib/python3.12/dist-packages (from -r requirements.txt (line 17)) (0.12.1)\n",
            "Collecting dbus-python==1.2.16 (from -r requirements.txt (line 18))\n",
            "  Downloading dbus-python-1.2.16.tar.gz (576 kB)\n",
            "\u001b[2K     \u001b[90m━━━━━━━━━━━━━━━━━━━━━━━━━━━━━━━━━━━━━━\u001b[0m \u001b[32m576.7/576.7 kB\u001b[0m \u001b[31m38.6 MB/s\u001b[0m eta \u001b[36m0:00:00\u001b[0m\n",
            "\u001b[?25h  Preparing metadata (setup.py) ... \u001b[?25l\u001b[?25hdone\n",
            "Collecting debtcollector==0.10.0 (from -r requirements.txt (line 19))\n",
            "  Downloading debtcollector-0.10.0-py2.py3-none-any.whl.metadata (2.1 kB)\n",
            "Collecting distro==1.4.0 (from -r requirements.txt (line 20))\n",
            "  Downloading distro-1.4.0-py2.py3-none-any.whl.metadata (6.6 kB)\n",
            "Collecting docopt==0.6.2 (from -r requirements.txt (line 21))\n",
            "  Downloading docopt-0.6.2.tar.gz (25 kB)\n",
            "  Preparing metadata (setup.py) ... \u001b[?25l\u001b[?25hdone\n",
            "Collecting einops==0.7.0 (from -r requirements.txt (line 22))\n",
            "  Downloading einops-0.7.0-py3-none-any.whl.metadata (13 kB)\n",
            "Collecting exceptiongroup==1.2.0 (from -r requirements.txt (line 23))\n",
            "  Downloading exceptiongroup-1.2.0-py3-none-any.whl.metadata (6.6 kB)\n",
            "Collecting filelock==3.13.1 (from -r requirements.txt (line 24))\n",
            "  Downloading filelock-3.13.1-py3-none-any.whl.metadata (2.8 kB)\n",
            "Collecting fonttools==4.51.0 (from -r requirements.txt (line 25))\n",
            "  Downloading fonttools-4.51.0-cp312-cp312-manylinux_2_5_x86_64.manylinux1_x86_64.manylinux_2_17_x86_64.manylinux2014_x86_64.whl.metadata (159 kB)\n",
            "\u001b[2K     \u001b[90m━━━━━━━━━━━━━━━━━━━━━━━━━━━━━━━━━━━━━━\u001b[0m \u001b[32m159.5/159.5 kB\u001b[0m \u001b[31m16.9 MB/s\u001b[0m eta \u001b[36m0:00:00\u001b[0m\n",
            "\u001b[?25hCollecting fsspec==2023.12.2 (from -r requirements.txt (line 26))\n",
            "  Downloading fsspec-2023.12.2-py3-none-any.whl.metadata (6.8 kB)\n",
            "Collecting funcsigs==0.4 (from -r requirements.txt (line 27))\n",
            "  Downloading funcsigs-0.4-py2.py3-none-any.whl.metadata (3.9 kB)\n",
            "Collecting furl==2.1.3 (from -r requirements.txt (line 28))\n",
            "  Downloading furl-2.1.3-py2.py3-none-any.whl.metadata (1.2 kB)\n",
            "Collecting fvcore==0.1.5.post20221221 (from -r requirements.txt (line 29))\n",
            "  Downloading fvcore-0.1.5.post20221221.tar.gz (50 kB)\n",
            "\u001b[2K     \u001b[90m━━━━━━━━━━━━━━━━━━━━━━━━━━━━━━━━━━━━━━━━\u001b[0m \u001b[32m50.2/50.2 kB\u001b[0m \u001b[31m5.1 MB/s\u001b[0m eta \u001b[36m0:00:00\u001b[0m\n",
            "\u001b[?25h  Preparing metadata (setup.py) ... \u001b[?25l\u001b[?25hdone\n",
            "Collecting google-auth==2.34.0 (from -r requirements.txt (line 30))\n",
            "  Downloading google_auth-2.34.0-py2.py3-none-any.whl.metadata (4.7 kB)\n",
            "Collecting google-auth-oauthlib==1.0.0 (from -r requirements.txt (line 31))\n",
            "  Downloading google_auth_oauthlib-1.0.0-py2.py3-none-any.whl.metadata (2.7 kB)\n",
            "Collecting greenlet==3.0.3 (from -r requirements.txt (line 32))\n",
            "  Downloading greenlet-3.0.3-cp312-cp312-manylinux_2_24_x86_64.manylinux_2_28_x86_64.whl.metadata (3.8 kB)\n",
            "Collecting grpcio==1.66.1 (from -r requirements.txt (line 33))\n",
            "  Downloading grpcio-1.66.1-cp312-cp312-manylinux_2_17_x86_64.manylinux2014_x86_64.whl.metadata (3.9 kB)\n",
            "Collecting huggingface-hub==0.20.3 (from -r requirements.txt (line 34))\n",
            "  Downloading huggingface_hub-0.20.3-py3-none-any.whl.metadata (12 kB)\n",
            "Collecting hyperlink==21.0.0 (from -r requirements.txt (line 35))\n",
            "  Downloading hyperlink-21.0.0-py2.py3-none-any.whl.metadata (1.5 kB)\n",
            "Collecting idna==3.6 (from -r requirements.txt (line 36))\n",
            "  Downloading idna-3.6-py3-none-any.whl.metadata (9.9 kB)\n",
            "Collecting imageio==2.34.1 (from -r requirements.txt (line 37))\n",
            "  Downloading imageio-2.34.1-py3-none-any.whl.metadata (4.9 kB)\n",
            "Collecting imgaug==0.4.0 (from -r requirements.txt (line 38))\n",
            "  Downloading imgaug-0.4.0-py2.py3-none-any.whl.metadata (1.8 kB)\n",
            "Collecting importlib-metadata==8.4.0 (from -r requirements.txt (line 39))\n",
            "  Downloading importlib_metadata-8.4.0-py3-none-any.whl.metadata (4.7 kB)\n",
            "Collecting importlib-resources==6.4.0 (from -r requirements.txt (line 40))\n",
            "  Downloading importlib_resources-6.4.0-py3-none-any.whl.metadata (3.9 kB)\n",
            "Collecting incremental==22.10.0 (from -r requirements.txt (line 41))\n",
            "  Downloading incremental-22.10.0-py2.py3-none-any.whl.metadata (6.0 kB)\n",
            "Collecting iniconfig==2.0.0 (from -r requirements.txt (line 42))\n",
            "  Downloading iniconfig-2.0.0-py3-none-any.whl.metadata (2.6 kB)\n",
            "Collecting iopath==0.1.10 (from -r requirements.txt (line 43))\n",
            "  Downloading iopath-0.1.10.tar.gz (42 kB)\n",
            "\u001b[2K     \u001b[90m━━━━━━━━━━━━━━━━━━━━━━━━━━━━━━━━━━━━━━━━\u001b[0m \u001b[32m42.2/42.2 kB\u001b[0m \u001b[31m3.7 MB/s\u001b[0m eta \u001b[36m0:00:00\u001b[0m\n",
            "\u001b[?25h  Preparing metadata (setup.py) ... \u001b[?25l\u001b[?25hdone\n",
            "Collecting iso8601==0.1.11 (from -r requirements.txt (line 44))\n",
            "  Downloading iso8601-0.1.11-py2.py3-none-any.whl.metadata (7.3 kB)\n",
            "Collecting Jinja2==2.8 (from -r requirements.txt (line 45))\n",
            "  Downloading Jinja2-2.8-py2.py3-none-any.whl.metadata (2.1 kB)\n",
            "Collecting joblib==1.4.0 (from -r requirements.txt (line 46))\n",
            "  Downloading joblib-1.4.0-py3-none-any.whl.metadata (5.4 kB)\n",
            "Collecting kiwisolver==1.4.5 (from -r requirements.txt (line 47))\n",
            "  Downloading kiwisolver-1.4.5-cp312-cp312-manylinux_2_17_x86_64.manylinux2014_x86_64.whl.metadata (6.4 kB)\n",
            "Requirement already satisfied: lazy-loader==0.4 in /usr/local/lib/python3.12/dist-packages (from -r requirements.txt (line 48)) (0.4)\n",
            "Collecting lit==17.0.6 (from -r requirements.txt (line 49))\n",
            "  Downloading lit-17.0.6.tar.gz (153 kB)\n",
            "\u001b[2K     \u001b[90m━━━━━━━━━━━━━━━━━━━━━━━━━━━━━━━━━━━━━━\u001b[0m \u001b[32m153.0/153.0 kB\u001b[0m \u001b[31m16.3 MB/s\u001b[0m eta \u001b[36m0:00:00\u001b[0m\n",
            "\u001b[?25h  Installing build dependencies ... \u001b[?25l\u001b[?25hdone\n",
            "  Getting requirements to build wheel ... \u001b[?25l\u001b[?25hdone\n",
            "  Preparing metadata (pyproject.toml) ... \u001b[?25l\u001b[?25hdone\n",
            "Collecting Markdown==3.7 (from -r requirements.txt (line 52))\n",
            "  Downloading Markdown-3.7-py3-none-any.whl.metadata (7.0 kB)\n",
            "Collecting markdown-it-py==3.0.0 (from -r requirements.txt (line 53))\n",
            "  Downloading markdown_it_py-3.0.0-py3-none-any.whl.metadata (6.9 kB)\n",
            "Collecting MarkupSafe==2.1.5 (from -r requirements.txt (line 54))\n",
            "  Downloading MarkupSafe-2.1.5-cp312-cp312-manylinux_2_17_x86_64.manylinux2014_x86_64.whl.metadata (3.0 kB)\n",
            "Collecting matplotlib==3.7.5 (from -r requirements.txt (line 55))\n",
            "  Downloading matplotlib-3.7.5-cp312-cp312-manylinux_2_17_x86_64.manylinux2014_x86_64.whl.metadata (5.7 kB)\n",
            "Requirement already satisfied: mdurl==0.1.2 in /usr/local/lib/python3.12/dist-packages (from -r requirements.txt (line 56)) (0.1.2)\n",
            "Collecting mmcv==2.2.0 (from -r requirements.txt (line 57))\n",
            "  Downloading mmcv-2.2.0.tar.gz (479 kB)\n",
            "\u001b[2K     \u001b[90m━━━━━━━━━━━━━━━━━━━━━━━━━━━━━━━━━━━━━━\u001b[0m \u001b[32m479.1/479.1 kB\u001b[0m \u001b[31m44.0 MB/s\u001b[0m eta \u001b[36m0:00:00\u001b[0m\n",
            "\u001b[?25h  Preparing metadata (setup.py) ... \u001b[?25l\u001b[?25hdone\n",
            "Collecting mmengine==0.10.4 (from -r requirements.txt (line 58))\n",
            "  Downloading mmengine-0.10.4-py3-none-any.whl.metadata (20 kB)\n",
            "Collecting monotonic==0.4 (from -r requirements.txt (line 59))\n",
            "  Downloading monotonic-0.4.tar.gz (6.7 kB)\n",
            "  Preparing metadata (setup.py) ... \u001b[?25l\u001b[?25hdone\n",
            "Collecting msgpack-python==0.4.6 (from -r requirements.txt (line 60))\n",
            "  Downloading msgpack-python-0.4.6.tar.gz (116 kB)\n",
            "\u001b[2K     \u001b[90m━━━━━━━━━━━━━━━━━━━━━━━━━━━━━━━━━━━━━━\u001b[0m \u001b[32m116.4/116.4 kB\u001b[0m \u001b[31m12.0 MB/s\u001b[0m eta \u001b[36m0:00:00\u001b[0m\n",
            "\u001b[?25h  Preparing metadata (setup.py) ... \u001b[?25l\u001b[?25hdone\n",
            "Collecting netaddr==0.7.18 (from -r requirements.txt (line 61))\n",
            "  Downloading netaddr-0.7.18-py2.py3-none-any.whl.metadata (4.3 kB)\n",
            "Collecting netifaces==0.10.4 (from -r requirements.txt (line 62))\n",
            "  Downloading netifaces-0.10.4.tar.gz (22 kB)\n",
            "  Preparing metadata (setup.py) ... \u001b[?25l\u001b[?25hdone\n",
            "Collecting networkx==3.1 (from -r requirements.txt (line 63))\n",
            "  Downloading networkx-3.1-py3-none-any.whl.metadata (5.3 kB)\n",
            "Collecting ninja==1.11.1.1 (from -r requirements.txt (line 64))\n",
            "  Downloading ninja-1.11.1.1-py2.py3-none-manylinux1_x86_64.manylinux_2_5_x86_64.whl.metadata (5.3 kB)\n",
            "Collecting numpy==1.24.4 (from -r requirements.txt (line 65))\n",
            "  Downloading numpy-1.24.4.tar.gz (10.9 MB)\n",
            "\u001b[2K     \u001b[90m━━━━━━━━━━━━━━━━━━━━━━━━━━━━━━━━━━━━━━━\u001b[0m \u001b[32m10.9/10.9 MB\u001b[0m \u001b[31m142.9 MB/s\u001b[0m eta \u001b[36m0:00:00\u001b[0m\n",
            "\u001b[?25h  Installing build dependencies ... \u001b[?25l\u001b[?25hdone\n",
            "  \u001b[1;31merror\u001b[0m: \u001b[1msubprocess-exited-with-error\u001b[0m\n",
            "  \n",
            "  \u001b[31m×\u001b[0m \u001b[32mGetting requirements to build wheel\u001b[0m did not run successfully.\n",
            "  \u001b[31m│\u001b[0m exit code: \u001b[1;36m1\u001b[0m\n",
            "  \u001b[31m╰─>\u001b[0m See above for output.\n",
            "  \n",
            "  \u001b[1;35mnote\u001b[0m: This error originates from a subprocess, and is likely not a problem with pip.\n",
            "  Getting requirements to build wheel ... \u001b[?25l\u001b[?25herror\n",
            "\u001b[1;31merror\u001b[0m: \u001b[1msubprocess-exited-with-error\u001b[0m\n",
            "\n",
            "\u001b[31m×\u001b[0m \u001b[32mGetting requirements to build wheel\u001b[0m did not run successfully.\n",
            "\u001b[31m│\u001b[0m exit code: \u001b[1;36m1\u001b[0m\n",
            "\u001b[31m╰─>\u001b[0m See above for output.\n",
            "\n",
            "\u001b[1;35mnote\u001b[0m: This error originates from a subprocess, and is likely not a problem with pip.\n"
          ]
        }
      ]
    },
    {
      "cell_type": "code",
      "source": [
        "!sudo apt-get update -y"
      ],
      "metadata": {
        "colab": {
          "base_uri": "https://localhost:8080/"
        },
        "id": "Wd5WAlks362V",
        "outputId": "a9fd4658-e00c-4905-f9f2-6ee22fadb047"
      },
      "execution_count": null,
      "outputs": [
        {
          "output_type": "stream",
          "name": "stdout",
          "text": [
            "\r0% [Working]\r            \rGet:1 https://cli.github.com/packages stable InRelease [3,917 B]\n",
            "Get:2 https://cloud.r-project.org/bin/linux/ubuntu jammy-cran40/ InRelease [3,632 B]\n",
            "Hit:3 https://developer.download.nvidia.com/compute/cuda/repos/ubuntu2204/x86_64  InRelease\n",
            "Get:4 https://cli.github.com/packages stable/main amd64 Packages [344 B]\n",
            "Hit:5 http://archive.ubuntu.com/ubuntu jammy InRelease\n",
            "Get:6 http://archive.ubuntu.com/ubuntu jammy-updates InRelease [128 kB]\n",
            "Get:7 https://r2u.stat.illinois.edu/ubuntu jammy InRelease [6,555 B]\n",
            "Get:8 http://security.ubuntu.com/ubuntu jammy-security InRelease [129 kB]\n",
            "Get:9 https://r2u.stat.illinois.edu/ubuntu jammy/main all Packages [9,361 kB]\n",
            "Get:10 http://archive.ubuntu.com/ubuntu jammy-backports InRelease [127 kB]\n",
            "Hit:11 https://ppa.launchpadcontent.net/deadsnakes/ppa/ubuntu jammy InRelease\n",
            "Get:12 http://archive.ubuntu.com/ubuntu jammy-updates/main amd64 Packages [3,778 kB]\n",
            "Hit:13 https://ppa.launchpadcontent.net/graphics-drivers/ppa/ubuntu jammy InRelease\n",
            "Hit:14 https://ppa.launchpadcontent.net/ubuntugis/ppa/ubuntu jammy InRelease\n",
            "Get:15 http://archive.ubuntu.com/ubuntu jammy-updates/restricted amd64 Packages [5,988 kB]\n",
            "Get:16 https://r2u.stat.illinois.edu/ubuntu jammy/main amd64 Packages [2,811 kB]\n",
            "Get:17 http://archive.ubuntu.com/ubuntu jammy-updates/universe amd64 Packages [1,586 kB]\n",
            "Get:18 http://archive.ubuntu.com/ubuntu jammy-updates/multiverse amd64 Packages [69.2 kB]\n",
            "Get:19 http://security.ubuntu.com/ubuntu jammy-security/universe amd64 Packages [1,287 kB]\n",
            "Get:20 http://security.ubuntu.com/ubuntu jammy-security/main amd64 Packages [3,429 kB]\n",
            "Fetched 28.7 MB in 3s (9,821 kB/s)\n",
            "Reading package lists... Done\n",
            "W: Skipping acquire of configured file 'main/source/Sources' as repository 'https://r2u.stat.illinois.edu/ubuntu jammy InRelease' does not seem to provide it (sources.list entry misspelt?)\n"
          ]
        }
      ]
    },
    {
      "cell_type": "code",
      "source": [
        "!sudo apt-get install python3.11 python3.11-distutils python3.11-venv -y"
      ],
      "metadata": {
        "colab": {
          "base_uri": "https://localhost:8080/"
        },
        "id": "3p-d4M7m4A2H",
        "outputId": "4d305330-ed57-480c-9b11-dbe126918438"
      },
      "execution_count": null,
      "outputs": [
        {
          "output_type": "stream",
          "name": "stdout",
          "text": [
            "Reading package lists... Done\n",
            "Building dependency tree... Done\n",
            "Reading state information... Done\n",
            "Note, selecting 'python3-distutils' instead of 'python3.11-distutils'\n",
            "python3-distutils is already the newest version (3.10.8-1~22.04).\n",
            "python3-distutils set to manually installed.\n",
            "The following additional packages will be installed:\n",
            "  libpython3.11-minimal libpython3.11-stdlib python3.11-minimal\n",
            "Suggested packages:\n",
            "  binfmt-support\n",
            "The following NEW packages will be installed:\n",
            "  libpython3.11-minimal libpython3.11-stdlib python3.11 python3.11-minimal\n",
            "  python3.11-venv\n",
            "0 upgraded, 5 newly installed, 0 to remove and 40 not upgraded.\n",
            "Need to get 8,478 kB of archives.\n",
            "After this operation, 24.5 MB of additional disk space will be used.\n",
            "Get:1 https://ppa.launchpadcontent.net/deadsnakes/ppa/ubuntu jammy/main amd64 libpython3.11-minimal amd64 3.11.14-1+jammy1 [887 kB]\n",
            "Get:2 https://ppa.launchpadcontent.net/deadsnakes/ppa/ubuntu jammy/main amd64 python3.11-minimal amd64 3.11.14-1+jammy1 [2,358 kB]\n",
            "Get:3 https://ppa.launchpadcontent.net/deadsnakes/ppa/ubuntu jammy/main amd64 libpython3.11-stdlib amd64 3.11.14-1+jammy1 [1,927 kB]\n",
            "Get:4 https://ppa.launchpadcontent.net/deadsnakes/ppa/ubuntu jammy/main amd64 python3.11 amd64 3.11.14-1+jammy1 [94.3 kB]\n",
            "Get:5 https://ppa.launchpadcontent.net/deadsnakes/ppa/ubuntu jammy/main amd64 python3.11-venv amd64 3.11.14-1+jammy1 [3,212 kB]\n",
            "Fetched 8,478 kB in 18s (466 kB/s)\n",
            "debconf: unable to initialize frontend: Dialog\n",
            "debconf: (No usable dialog-like program is installed, so the dialog based frontend cannot be used. at /usr/share/perl5/Debconf/FrontEnd/Dialog.pm line 78, <> line 5.)\n",
            "debconf: falling back to frontend: Readline\n",
            "debconf: unable to initialize frontend: Readline\n",
            "debconf: (This frontend requires a controlling tty.)\n",
            "debconf: falling back to frontend: Teletype\n",
            "dpkg-preconfigure: unable to re-open stdin: \n",
            "Selecting previously unselected package libpython3.11-minimal:amd64.\n",
            "(Reading database ... 126675 files and directories currently installed.)\n",
            "Preparing to unpack .../libpython3.11-minimal_3.11.14-1+jammy1_amd64.deb ...\n",
            "Unpacking libpython3.11-minimal:amd64 (3.11.14-1+jammy1) ...\n",
            "Selecting previously unselected package python3.11-minimal.\n",
            "Preparing to unpack .../python3.11-minimal_3.11.14-1+jammy1_amd64.deb ...\n",
            "Unpacking python3.11-minimal (3.11.14-1+jammy1) ...\n",
            "Selecting previously unselected package libpython3.11-stdlib:amd64.\n",
            "Preparing to unpack .../libpython3.11-stdlib_3.11.14-1+jammy1_amd64.deb ...\n",
            "Unpacking libpython3.11-stdlib:amd64 (3.11.14-1+jammy1) ...\n",
            "Selecting previously unselected package python3.11.\n",
            "Preparing to unpack .../python3.11_3.11.14-1+jammy1_amd64.deb ...\n",
            "Unpacking python3.11 (3.11.14-1+jammy1) ...\n",
            "Selecting previously unselected package python3.11-venv.\n",
            "Preparing to unpack .../python3.11-venv_3.11.14-1+jammy1_amd64.deb ...\n",
            "Unpacking python3.11-venv (3.11.14-1+jammy1) ...\n",
            "Setting up libpython3.11-minimal:amd64 (3.11.14-1+jammy1) ...\n",
            "Setting up python3.11-minimal (3.11.14-1+jammy1) ...\n",
            "Setting up libpython3.11-stdlib:amd64 (3.11.14-1+jammy1) ...\n",
            "Setting up python3.11 (3.11.14-1+jammy1) ...\n",
            "Setting up python3.11-venv (3.11.14-1+jammy1) ...\n",
            "Processing triggers for man-db (2.10.2-1) ...\n",
            "Processing triggers for mailcap (3.70+nmu1ubuntu1) ...\n"
          ]
        }
      ]
    },
    {
      "cell_type": "code",
      "source": [
        "!sudo update-alternatives --install /usr/bin/python3 python3 /usr/bin/python3.11 1"
      ],
      "metadata": {
        "id": "F5rE8-ob4Qpn"
      },
      "execution_count": null,
      "outputs": []
    },
    {
      "cell_type": "code",
      "source": [
        "!sudo update-alternatives --config python3"
      ],
      "metadata": {
        "id": "xl18Agcx4S5v",
        "outputId": "2aa2114a-60d6-4b8e-e352-ae1592127644",
        "colab": {
          "base_uri": "https://localhost:8080/"
        }
      },
      "execution_count": null,
      "outputs": [
        {
          "output_type": "stream",
          "name": "stdout",
          "text": [
            "There are 3 choices for the alternative python3 (providing /usr/bin/python3).\n",
            "\n",
            "  Selection    Path                 Priority   Status\n",
            "------------------------------------------------------------\n",
            "* 0            /usr/bin/python3.12   2         auto mode\n",
            "  1            /usr/bin/python3.10   1         manual mode\n",
            "  2            /usr/bin/python3.11   1         manual mode\n",
            "  3            /usr/bin/python3.12   2         manual mode\n",
            "\n",
            "Press <enter> to keep the current choice[*], or type selection number: 2\n",
            "update-alternatives: using /usr/bin/python3.11 to provide /usr/bin/python3 (python3) in manual mode\n"
          ]
        }
      ]
    },
    {
      "cell_type": "code",
      "source": [
        "!python --version"
      ],
      "metadata": {
        "colab": {
          "base_uri": "https://localhost:8080/"
        },
        "id": "k2HVUn5Y5Ur1",
        "outputId": "c972e04c-28aa-453b-cb17-144e7fc010ad"
      },
      "execution_count": null,
      "outputs": [
        {
          "output_type": "stream",
          "name": "stdout",
          "text": [
            "Python 3.11.14\n"
          ]
        }
      ]
    },
    {
      "cell_type": "code",
      "source": [],
      "metadata": {
        "id": "h6plVOKl6jJ-"
      },
      "execution_count": null,
      "outputs": []
    },
    {
      "cell_type": "code",
      "source": [
        "!git clone https://github.com/Li-yachuan/EDMB.git\n",
        "%cd EDMB"
      ],
      "metadata": {
        "colab": {
          "base_uri": "https://localhost:8080/"
        },
        "id": "HygVVaHV6DUX",
        "outputId": "de412c28-b1eb-4de5-e2fa-41b09a6475b4"
      },
      "execution_count": null,
      "outputs": [
        {
          "output_type": "stream",
          "name": "stdout",
          "text": [
            "Cloning into 'EDMB'...\n",
            "remote: Enumerating objects: 128, done.\u001b[K\n",
            "remote: Counting objects: 100% (128/128), done.\u001b[K\n",
            "remote: Compressing objects: 100% (126/126), done.\u001b[K\n",
            "remote: Total 128 (delta 56), reused 0 (delta 0), pack-reused 0 (from 0)\u001b[K\n",
            "Receiving objects: 100% (128/128), 714.48 KiB | 2.88 MiB/s, done.\n",
            "Resolving deltas: 100% (56/56), done.\n",
            "/content/EDMB\n"
          ]
        }
      ]
    },
    {
      "cell_type": "code",
      "source": [
        "!ls\n"
      ],
      "metadata": {
        "colab": {
          "base_uri": "https://localhost:8080/"
        },
        "id": "fMKs_dRo6GnO",
        "outputId": "a5a625d6-b7d7-41d4-c8c2-70e62630e9a9"
      },
      "execution_count": null,
      "outputs": [
        {
          "output_type": "stream",
          "name": "stdout",
          "text": [
            "data_process.py  fig\t    main.py  README.md\t       test.py\t utils.py\n",
            "eval_muge_best\t gflops.py  model    requirements.txt  train.py\n"
          ]
        }
      ]
    },
    {
      "cell_type": "code",
      "source": [
        "%%writefile requirements.txt\n",
        "absl-py==2.1.0\n",
        "addict==2.4.0\n",
        "attrs==23.2.0\n",
        "Automat==22.10.0\n",
        "Babel==2.1.1\n",
        "buildtools==1.0.6\n",
        "cachetools==5.5.0\n",
        "causal-conv1d==1.1.1\n",
        "certifi==2023.11.17\n",
        "chardet==5.2.0\n",
        "charset-normalizer==3.3.2\n",
        "clize==3.0\n",
        "cloudpickle==3.0.0\n",
        "cmake==3.28.1\n",
        "constantly==23.10.4\n",
        "contourpy==1.1.1\n",
        "cycler==0.12.1\n",
        "dbus-python==1.2.16\n",
        "debtcollector==0.10.0\n",
        "distro==1.4.0\n",
        "docopt==0.6.2\n",
        "einops==0.7.0\n",
        "exceptiongroup==1.2.0\n",
        "filelock==3.13.1\n",
        "fonttools==4.51.0\n",
        "fsspec==2023.12.2\n",
        "funcsigs==0.4\n",
        "furl==2.1.3\n",
        "fvcore==0.1.5.post20221221\n",
        "google-auth==2.34.0\n",
        "google-auth-oauthlib==1.0.0\n",
        "greenlet==3.0.3\n",
        "grpcio==1.66.1\n",
        "huggingface-hub==0.20.3\n",
        "hyperlink==21.0.0\n",
        "idna==3.6\n",
        "imageio==2.34.1\n",
        "imgaug==0.4.0\n",
        "importlib-metadata==8.4.0\n",
        "importlib-resources==6.4.0\n",
        "incremental==22.10.0\n",
        "iniconfig==2.0.0\n",
        "iopath==0.1.10\n",
        "iso8601==0.1.11\n",
        "Jinja2==2.8\n",
        "joblib==1.4.0\n",
        "kiwisolver==1.4.5\n",
        "lazy-loader==0.4\n",
        "lit==17.0.6\n",
        "# Editable install with no version control (mamba-ssm==1.1.1)\n",
        "# -e /workspace/EDMamba/mamba-1p1p1\n",
        "Markdown==3.7\n",
        "markdown-it-py==3.0.0\n",
        "MarkupSafe==2.1.5\n",
        "matplotlib==3.7.5\n",
        "mdurl==0.1.2\n",
        "mmcv==2.2.0\n",
        "mmengine==0.10.4\n",
        "monotonic==0.4\n",
        "msgpack-python==0.4.6\n",
        "netaddr==0.7.18\n",
        "netifaces==0.10.4\n",
        "networkx==3.1\n",
        "ninja==1.11.1.1\n",
        "numpy==1.24.4\n",
        "oauthlib==3.2.2\n",
        "opencv-python==4.9.0.80\n",
        "opencv-python-headless==4.9.0.80\n",
        "orderedmultidict==1.0.1\n",
        "oslo.config==2.6.0\n",
        "oslo.context==0.8.0\n",
        "oslo.i18n==2.7.0\n",
        "oslo.log==1.13.0\n",
        "oslo.serialization==1.11.0\n",
        "oslo.utils==2.7.0\n",
        "packaging==23.2\n",
        "pbr==1.8.1\n",
        "pillow==10.2.0\n",
        "platformdirs==4.2.2\n",
        "pluggy==1.3.0\n",
        "portalocker==2.8.2\n",
        "protobuf==4.25.2\n",
        "pyasn1==0.6.0\n",
        "pyasn1-modules==0.4.0\n",
        "pygments==2.18.0\n",
        "PyGObject==3.36.0\n",
        "pyinotify==0.9.6\n",
        "pyparsing==3.1.2\n",
        "pysodmetrics==1.4.2\n",
        "pytest==7.4.4\n",
        "python-dateutil==2.8.2\n",
        "pytz==2015.7\n",
        "PyWavelets==1.4.1\n",
        "PyYAML==5.1\n",
        "redo==2.0.4\n",
        "regex==2023.12.25\n",
        "requests==2.31.0\n",
        "requests-oauthlib==2.0.0\n",
        "rich==13.7.1\n",
        "rsa==4.9\n",
        "safetensors==0.4.2\n",
        "scikit-image==0.21.0\n",
        "scikit-learn==1.3.2\n",
        "scipy==1.10.1\n",
        "# Editable install with no version control (selective-scan==0.0.2)\n",
        "# -e /usr/local/lib/python3.8/dist-packages\n",
        "sh==1.11\n",
        "shapely==2.0.4\n",
        "sigtools==1.0\n",
        "simplejson==3.19.2\n",
        "six==1.10.0\n",
        "SQLAlchemy==2.0.25\n",
        "ssh-import-id==5.10\n",
        "stevedore==1.9.0\n",
        "submitit==1.5.1\n",
        "tabulate==0.9.0\n",
        "tensorboard==2.14.0\n",
        "tensorboard-data-server==0.7.2\n",
        "tensorboardX==2.6.2.2\n",
        "termcolor==2.4.0\n",
        "thop==0.1.1.post2209072238\n",
        "threadpoolctl==3.4.0\n",
        "tifffile==2023.7.10\n",
        "timm==0.4.12\n",
        "tokenizers==0.15.1\n",
        "tomli==2.0.1\n",
        "torch==1.13.0+cu117\n",
        "torchaudio==0.13.0+cu117\n",
        "torchvision==0.14.0+cu117\n",
        "tqdm==4.66.1\n",
        "transformers==4.37.0\n",
        "triton==2.0.0\n",
        "twisted==23.10.0\n",
        "typing-extensions==4.9.0\n",
        "urllib3==2.1.0\n",
        "vi==0.0.5.dev9\n",
        "werkzeug==3.0.4\n",
        "wrapt==1.10.5\n",
        "yacs==0.1.8\n",
        "yapf==0.40.2\n",
        "zipp==3.18.1\n",
        "zope.interface==6.4"
      ],
      "metadata": {
        "colab": {
          "base_uri": "https://localhost:8080/"
        },
        "id": "zyN0JULj6Mhu",
        "outputId": "f8b5ff9b-5da9-481b-bb76-84a99c8dc2cf"
      },
      "execution_count": null,
      "outputs": [
        {
          "output_type": "stream",
          "name": "stdout",
          "text": [
            "Overwriting requirements.txt\n"
          ]
        }
      ]
    },
    {
      "cell_type": "code",
      "source": [
        "!cat requirements.txt"
      ],
      "metadata": {
        "colab": {
          "base_uri": "https://localhost:8080/"
        },
        "id": "0C37ZcLu6QeE",
        "outputId": "b062304c-64b6-48d9-d155-4d48ca6a71c9"
      },
      "execution_count": null,
      "outputs": [
        {
          "output_type": "stream",
          "name": "stdout",
          "text": [
            "absl-py==2.1.0\n",
            "addict==2.4.0\n",
            "attrs==23.2.0\n",
            "Automat==22.10.0\n",
            "Babel==2.1.1\n",
            "buildtools==1.0.6\n",
            "cachetools==5.5.0\n",
            "causal-conv1d==1.1.1\n",
            "certifi==2023.11.17\n",
            "chardet==5.2.0\n",
            "charset-normalizer==3.3.2\n",
            "clize==3.0\n",
            "cloudpickle==3.0.0\n",
            "cmake==3.28.1\n",
            "constantly==23.10.4\n",
            "contourpy==1.1.1\n",
            "cycler==0.12.1\n",
            "dbus-python==1.2.16\n",
            "debtcollector==0.10.0\n",
            "distro==1.4.0\n",
            "docopt==0.6.2\n",
            "einops==0.7.0\n",
            "exceptiongroup==1.2.0\n",
            "filelock==3.13.1\n",
            "fonttools==4.51.0\n",
            "fsspec==2023.12.2\n",
            "funcsigs==0.4\n",
            "furl==2.1.3\n",
            "fvcore==0.1.5.post20221221\n",
            "google-auth==2.34.0\n",
            "google-auth-oauthlib==1.0.0\n",
            "greenlet==3.0.3\n",
            "grpcio==1.66.1\n",
            "huggingface-hub==0.20.3\n",
            "hyperlink==21.0.0\n",
            "idna==3.6\n",
            "imageio==2.34.1\n",
            "imgaug==0.4.0\n",
            "importlib-metadata==8.4.0\n",
            "importlib-resources==6.4.0\n",
            "incremental==22.10.0\n",
            "iniconfig==2.0.0\n",
            "iopath==0.1.10\n",
            "iso8601==0.1.11\n",
            "Jinja2==2.8\n",
            "joblib==1.4.0\n",
            "kiwisolver==1.4.5\n",
            "lazy-loader==0.4\n",
            "lit==17.0.6\n",
            "# Editable install with no version control (mamba-ssm==1.1.1)\n",
            "# -e /workspace/EDMamba/mamba-1p1p1\n",
            "Markdown==3.7\n",
            "markdown-it-py==3.0.0\n",
            "MarkupSafe==2.1.5\n",
            "matplotlib==3.7.5\n",
            "mdurl==0.1.2\n",
            "mmcv==2.2.0\n",
            "mmengine==0.10.4\n",
            "monotonic==0.4\n",
            "msgpack-python==0.4.6\n",
            "netaddr==0.7.18\n",
            "netifaces==0.10.4\n",
            "networkx==3.1\n",
            "ninja==1.11.1.1\n",
            "numpy==1.24.4\n",
            "oauthlib==3.2.2\n",
            "opencv-python==4.9.0.80\n",
            "opencv-python-headless==4.9.0.80\n",
            "orderedmultidict==1.0.1\n",
            "oslo.config==2.6.0\n",
            "oslo.context==0.8.0\n",
            "oslo.i18n==2.7.0\n",
            "oslo.log==1.13.0\n",
            "oslo.serialization==1.11.0\n",
            "oslo.utils==2.7.0\n",
            "packaging==23.2\n",
            "pbr==1.8.1\n",
            "pillow==10.2.0\n",
            "platformdirs==4.2.2\n",
            "pluggy==1.3.0\n",
            "portalocker==2.8.2\n",
            "protobuf==4.25.2\n",
            "pyasn1==0.6.0\n",
            "pyasn1-modules==0.4.0\n",
            "pygments==2.18.0\n",
            "PyGObject==3.36.0\n",
            "pyinotify==0.9.6\n",
            "pyparsing==3.1.2\n",
            "pysodmetrics==1.4.2\n",
            "pytest==7.4.4\n",
            "python-dateutil==2.8.2\n",
            "pytz==2015.7\n",
            "PyWavelets==1.4.1\n",
            "PyYAML==5.1\n",
            "redo==2.0.4\n",
            "regex==2023.12.25\n",
            "requests==2.31.0\n",
            "requests-oauthlib==2.0.0\n",
            "rich==13.7.1\n",
            "rsa==4.9\n",
            "safetensors==0.4.2\n",
            "scikit-image==0.21.0\n",
            "scikit-learn==1.3.2\n",
            "scipy==1.10.1\n",
            "# Editable install with no version control (selective-scan==0.0.2)\n",
            "# -e /usr/local/lib/python3.8/dist-packages\n",
            "sh==1.11\n",
            "shapely==2.0.4\n",
            "sigtools==1.0\n",
            "simplejson==3.19.2\n",
            "six==1.10.0\n",
            "SQLAlchemy==2.0.25\n",
            "ssh-import-id==5.10\n",
            "stevedore==1.9.0\n",
            "submitit==1.5.1\n",
            "tabulate==0.9.0\n",
            "tensorboard==2.14.0\n",
            "tensorboard-data-server==0.7.2\n",
            "tensorboardX==2.6.2.2\n",
            "termcolor==2.4.0\n",
            "thop==0.1.1.post2209072238\n",
            "threadpoolctl==3.4.0\n",
            "tifffile==2023.7.10\n",
            "timm==0.4.12\n",
            "tokenizers==0.15.1\n",
            "tomli==2.0.1\n",
            "torch==1.13.0+cu117\n",
            "torchaudio==0.13.0+cu117\n",
            "torchvision==0.14.0+cu117\n",
            "tqdm==4.66.1\n",
            "transformers==4.37.0\n",
            "triton==2.0.0\n",
            "twisted==23.10.0\n",
            "typing-extensions==4.9.0\n",
            "urllib3==2.1.0\n",
            "vi==0.0.5.dev9\n",
            "werkzeug==3.0.4\n",
            "wrapt==1.10.5\n",
            "yacs==0.1.8\n",
            "yapf==0.40.2\n",
            "zipp==3.18.1\n",
            "zope.interface==6.4\n"
          ]
        }
      ]
    },
    {
      "cell_type": "code",
      "source": [
        "!pip install -r requirements.txt"
      ],
      "metadata": {
        "colab": {
          "base_uri": "https://localhost:8080/"
        },
        "id": "G_yAHolA6ULd",
        "outputId": "ff2a498c-be9b-41a6-ec5e-e7c00366d62e"
      },
      "execution_count": null,
      "outputs": [
        {
          "output_type": "stream",
          "name": "stdout",
          "text": [
            "Traceback (most recent call last):\n",
            "  File \"/usr/local/bin/pip3\", line 4, in <module>\n",
            "    from pip._internal.cli.main import main\n",
            "ModuleNotFoundError: No module named 'pip'\n"
          ]
        }
      ]
    },
    {
      "cell_type": "code",
      "source": [
        "!sudo apt-get install python3-pip -y"
      ],
      "metadata": {
        "colab": {
          "base_uri": "https://localhost:8080/"
        },
        "id": "WT8-gqUe6b05",
        "outputId": "77605ec6-0f01-4fe0-e828-60da7df32c1b"
      },
      "execution_count": null,
      "outputs": [
        {
          "output_type": "stream",
          "name": "stdout",
          "text": [
            "Reading package lists... Done\n",
            "Building dependency tree... Done\n",
            "Reading state information... Done\n",
            "The following additional packages will be installed:\n",
            "  python3-pkg-resources python3-setuptools python3-wheel\n",
            "Suggested packages:\n",
            "  python-setuptools-doc\n",
            "The following NEW packages will be installed:\n",
            "  python3-pip python3-setuptools python3-wheel\n",
            "The following packages will be upgraded:\n",
            "  python3-pkg-resources\n",
            "1 upgraded, 3 newly installed, 0 to remove and 39 not upgraded.\n",
            "Need to get 2,019 kB of archives.\n",
            "After this operation, 9,616 kB of additional disk space will be used.\n",
            "Get:1 http://archive.ubuntu.com/ubuntu jammy-updates/universe amd64 python3-wheel all 0.37.1-2ubuntu0.22.04.1 [32.0 kB]\n",
            "Get:2 http://archive.ubuntu.com/ubuntu jammy-updates/universe amd64 python3-pip all 22.0.2+dfsg-1ubuntu0.7 [1,306 kB]\n",
            "Get:3 https://ppa.launchpadcontent.net/ubuntugis/ppa/ubuntu jammy/main amd64 python3-pkg-resources all 68.1.2-2~jammy3 [216 kB]\n",
            "Get:4 https://ppa.launchpadcontent.net/ubuntugis/ppa/ubuntu jammy/main amd64 python3-setuptools all 68.1.2-2~jammy3 [465 kB]\n",
            "Fetched 2,019 kB in 2s (891 kB/s)\n",
            "debconf: unable to initialize frontend: Dialog\n",
            "debconf: (No usable dialog-like program is installed, so the dialog based frontend cannot be used. at /usr/share/perl5/Debconf/FrontEnd/Dialog.pm line 78, <> line 4.)\n",
            "debconf: falling back to frontend: Readline\n",
            "debconf: unable to initialize frontend: Readline\n",
            "debconf: (This frontend requires a controlling tty.)\n",
            "debconf: falling back to frontend: Teletype\n",
            "dpkg-preconfigure: unable to re-open stdin: \n",
            "(Reading database ... 127362 files and directories currently installed.)\n",
            "Preparing to unpack .../python3-pkg-resources_68.1.2-2~jammy3_all.deb ...\n",
            "Unpacking python3-pkg-resources (68.1.2-2~jammy3) over (59.6.0-1.2ubuntu0.22.04.3) ...\n",
            "Selecting previously unselected package python3-setuptools.\n",
            "Preparing to unpack .../python3-setuptools_68.1.2-2~jammy3_all.deb ...\n",
            "Unpacking python3-setuptools (68.1.2-2~jammy3) ...\n",
            "Selecting previously unselected package python3-wheel.\n",
            "Preparing to unpack .../python3-wheel_0.37.1-2ubuntu0.22.04.1_all.deb ...\n",
            "Unpacking python3-wheel (0.37.1-2ubuntu0.22.04.1) ...\n",
            "Selecting previously unselected package python3-pip.\n",
            "Preparing to unpack .../python3-pip_22.0.2+dfsg-1ubuntu0.7_all.deb ...\n",
            "Unpacking python3-pip (22.0.2+dfsg-1ubuntu0.7) ...\n",
            "Setting up python3-pkg-resources (68.1.2-2~jammy3) ...\n",
            "Setting up python3-setuptools (68.1.2-2~jammy3) ...\n",
            "Setting up python3-wheel (0.37.1-2ubuntu0.22.04.1) ...\n",
            "Setting up python3-pip (22.0.2+dfsg-1ubuntu0.7) ...\n",
            "Processing triggers for man-db (2.10.2-1) ...\n"
          ]
        }
      ]
    },
    {
      "cell_type": "code",
      "source": [
        "!python --version"
      ],
      "metadata": {
        "colab": {
          "base_uri": "https://localhost:8080/"
        },
        "id": "KULq8bnV6k02",
        "outputId": "aaa0a268-dfa1-4c98-b255-3f637a220046"
      },
      "execution_count": null,
      "outputs": [
        {
          "output_type": "stream",
          "name": "stdout",
          "text": [
            "Python 3.11.14\n"
          ]
        }
      ]
    },
    {
      "cell_type": "markdown",
      "source": [],
      "metadata": {
        "id": "svDLmUGA7MAp"
      }
    },
    {
      "cell_type": "code",
      "source": [
        "!pip install -r requirements.txt"
      ],
      "metadata": {
        "colab": {
          "base_uri": "https://localhost:8080/"
        },
        "id": "TQr0-jVr6mSR",
        "outputId": "c61797cd-2a9d-4dce-e743-27644e7f20a3"
      },
      "execution_count": null,
      "outputs": [
        {
          "output_type": "stream",
          "name": "stdout",
          "text": [
            "Collecting absl-py==2.1.0\n",
            "  Downloading absl_py-2.1.0-py3-none-any.whl (133 kB)\n",
            "\u001b[?25l     \u001b[90m━━━━━━━━━━━━━━━━━━━━━━━━━━━━━━━━━━━━━━━━\u001b[0m \u001b[32m0.0/133.7 KB\u001b[0m \u001b[31m?\u001b[0m eta \u001b[36m-:--:--\u001b[0m\r\u001b[2K     \u001b[90m━━━━━━━━━━━━━━━━━━━━━━━━━━━━━━━━━━━━━━━\u001b[0m \u001b[32m133.7/133.7 KB\u001b[0m \u001b[31m3.8 MB/s\u001b[0m eta \u001b[36m0:00:00\u001b[0m\n",
            "\u001b[?25hCollecting addict==2.4.0\n",
            "  Downloading addict-2.4.0-py3-none-any.whl (3.8 kB)\n",
            "Collecting attrs==23.2.0\n",
            "  Downloading attrs-23.2.0-py3-none-any.whl (60 kB)\n",
            "\u001b[2K     \u001b[90m━━━━━━━━━━━━━━━━━━━━━━━━━━━━━━━━━━━━━━━━\u001b[0m \u001b[32m60.8/60.8 KB\u001b[0m \u001b[31m7.6 MB/s\u001b[0m eta \u001b[36m0:00:00\u001b[0m\n",
            "\u001b[?25hCollecting Automat==22.10.0\n",
            "  Downloading Automat-22.10.0-py2.py3-none-any.whl (26 kB)\n",
            "Collecting Babel==2.1.1\n",
            "  Downloading Babel-2.1.1-py2.py3-none-any.whl (3.6 MB)\n",
            "\u001b[2K     \u001b[90m━━━━━━━━━━━━━━━━━━━━━━━━━━━━━━━━━━━━━━━━\u001b[0m \u001b[32m3.6/3.6 MB\u001b[0m \u001b[31m10.5 MB/s\u001b[0m eta \u001b[36m0:00:00\u001b[0m\n",
            "\u001b[?25hCollecting buildtools==1.0.6\n",
            "  Downloading buildtools-1.0.6.tar.gz (446 kB)\n",
            "\u001b[2K     \u001b[90m━━━━━━━━━━━━━━━━━━━━━━━━━━━━━━━━━━━━━━\u001b[0m \u001b[32m446.5/446.5 KB\u001b[0m \u001b[31m23.7 MB/s\u001b[0m eta \u001b[36m0:00:00\u001b[0m\n",
            "\u001b[?25h  Preparing metadata (setup.py) ... \u001b[?25l\u001b[?25hdone\n",
            "Collecting cachetools==5.5.0\n",
            "  Downloading cachetools-5.5.0-py3-none-any.whl (9.5 kB)\n",
            "Collecting causal-conv1d==1.1.1\n",
            "  Downloading causal_conv1d-1.1.1.tar.gz (6.6 kB)\n",
            "  \u001b[1;31merror\u001b[0m: \u001b[1msubprocess-exited-with-error\u001b[0m\n",
            "  \n",
            "  \u001b[31m×\u001b[0m \u001b[32mpython setup.py egg_info\u001b[0m did not run successfully.\n",
            "  \u001b[31m│\u001b[0m exit code: \u001b[1;36m1\u001b[0m\n",
            "  \u001b[31m╰─>\u001b[0m See above for output.\n",
            "  \n",
            "  \u001b[1;35mnote\u001b[0m: This error originates from a subprocess, and is likely not a problem with pip.\n",
            "  Preparing metadata (setup.py) ... \u001b[?25l\u001b[?25herror\n",
            "\u001b[1;31merror\u001b[0m: \u001b[1mmetadata-generation-failed\u001b[0m\n",
            "\n",
            "\u001b[31m×\u001b[0m Encountered error while generating package metadata.\n",
            "\u001b[31m╰─>\u001b[0m See above for output.\n",
            "\n",
            "\u001b[1;35mnote\u001b[0m: This is an issue with the package mentioned above, not pip.\n",
            "\u001b[1;36mhint\u001b[0m: See above for details.\n"
          ]
        }
      ]
    },
    {
      "cell_type": "markdown",
      "source": [
        "\n"
      ],
      "metadata": {
        "id": "scrIZiLT7M72"
      }
    },
    {
      "cell_type": "code",
      "source": [
        "!pip install --upgrade pip setuptools wheel"
      ],
      "metadata": {
        "colab": {
          "base_uri": "https://localhost:8080/",
          "height": 602
        },
        "id": "yHar__v17PWY",
        "outputId": "6370052b-5591-49e6-b7af-48d0bd8aa487"
      },
      "execution_count": null,
      "outputs": [
        {
          "output_type": "stream",
          "name": "stdout",
          "text": [
            "Requirement already satisfied: pip in /usr/lib/python3/dist-packages (22.0.2)\n",
            "Collecting pip\n",
            "  Downloading pip-25.2-py3-none-any.whl (1.8 MB)\n",
            "\u001b[2K     \u001b[90m━━━━━━━━━━━━━━━━━━━━━━━━━━━━━━━━━━━━━━━━\u001b[0m \u001b[32m1.8/1.8 MB\u001b[0m \u001b[31m9.8 MB/s\u001b[0m eta \u001b[36m0:00:00\u001b[0m\n",
            "\u001b[?25hRequirement already satisfied: setuptools in /usr/lib/python3/dist-packages (68.1.2)\n",
            "Collecting setuptools\n",
            "  Downloading setuptools-80.9.0-py3-none-any.whl (1.2 MB)\n",
            "\u001b[2K     \u001b[90m━━━━━━━━━━━━━━━━━━━━━━━━━━━━━━━━━━━━━━━━\u001b[0m \u001b[32m1.2/1.2 MB\u001b[0m \u001b[31m17.6 MB/s\u001b[0m eta \u001b[36m0:00:00\u001b[0m\n",
            "\u001b[?25hRequirement already satisfied: wheel in /usr/lib/python3/dist-packages (0.37.1)\n",
            "Collecting wheel\n",
            "  Downloading wheel-0.45.1-py3-none-any.whl (72 kB)\n",
            "\u001b[2K     \u001b[90m━━━━━━━━━━━━━━━━━━━━━━━━━━━━━━━━━━━━━━━━\u001b[0m \u001b[32m72.5/72.5 KB\u001b[0m \u001b[31m7.5 MB/s\u001b[0m eta \u001b[36m0:00:00\u001b[0m\n",
            "\u001b[?25hInstalling collected packages: wheel, setuptools, pip\n",
            "  Attempting uninstall: wheel\n",
            "    Found existing installation: wheel 0.37.1\n",
            "    Not uninstalling wheel at /usr/lib/python3/dist-packages, outside environment /usr\n",
            "    Can't uninstall 'wheel'. No files were found to uninstall.\n",
            "  Attempting uninstall: setuptools\n",
            "    Found existing installation: setuptools 68.1.2\n",
            "    Not uninstalling setuptools at /usr/lib/python3/dist-packages, outside environment /usr\n",
            "    Can't uninstall 'setuptools'. No files were found to uninstall.\n",
            "  Attempting uninstall: pip\n",
            "    Found existing installation: pip 22.0.2\n",
            "    Not uninstalling pip at /usr/lib/python3/dist-packages, outside environment /usr\n",
            "    Can't uninstall 'pip'. No files were found to uninstall.\n",
            "Successfully installed pip-25.2 setuptools-80.9.0 wheel-0.45.1\n",
            "\u001b[33mWARNING: Running pip as the 'root' user can result in broken permissions and conflicting behaviour with the system package manager. It is recommended to use a virtual environment instead: https://pip.pypa.io/warnings/venv\u001b[0m\u001b[33m\n",
            "\u001b[0m"
          ]
        },
        {
          "output_type": "display_data",
          "data": {
            "application/vnd.colab-display-data+json": {
              "pip_warning": {
                "packages": [
                  "_distutils_hack"
                ]
              },
              "id": "c38a79c7f380428588d0f978e3d86130"
            }
          },
          "metadata": {}
        }
      ]
    },
    {
      "cell_type": "code",
      "source": [
        "!pip install torch==1.13.0+cu117 torchvision==0.14.0+cu117 torchaudio==0.13.0+cu117 --extra-index-url https://download.pytorch.org/whl/cu117"
      ],
      "metadata": {
        "colab": {
          "base_uri": "https://localhost:8080/"
        },
        "id": "XaVlUW-g79lC",
        "outputId": "f2e86541-84f0-4aab-8166-e8045bcc61ca"
      },
      "execution_count": null,
      "outputs": [
        {
          "output_type": "stream",
          "name": "stdout",
          "text": [
            "Looking in indexes: https://pypi.org/simple, https://download.pytorch.org/whl/cu117\n",
            "\u001b[31mERROR: Could not find a version that satisfies the requirement torch==1.13.0+cu117 (from versions: 2.2.0, 2.2.1, 2.2.2, 2.3.0, 2.3.1, 2.4.0, 2.4.1, 2.5.0, 2.5.1, 2.6.0, 2.7.0, 2.7.1, 2.8.0, 2.9.0)\u001b[0m\u001b[31m\n",
            "\u001b[0m\u001b[31mERROR: No matching distribution found for torch==1.13.0+cu117\u001b[0m\u001b[31m\n",
            "\u001b[0m"
          ]
        }
      ]
    },
    {
      "cell_type": "code",
      "source": [],
      "metadata": {
        "id": "jyuwLwB78YH1"
      },
      "execution_count": null,
      "outputs": []
    }
  ]
}